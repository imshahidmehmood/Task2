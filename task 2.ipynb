{
 "cells": [
  {
   "cell_type": "code",
   "execution_count": 1,
   "metadata": {},
   "outputs": [],
   "source": [
    "'''\n",
    "\n",
    "1.First, import numpy.\n",
    "'''\n",
    "import numpy as np"
   ]
  },
  {
   "cell_type": "code",
   "execution_count": 3,
   "metadata": {},
   "outputs": [
    {
     "name": "stdout",
     "output_type": "stream",
     "text": [
      "[ 70. 120.  70.  50. 110. 110. 110. 130.  90.  90. 120. 110. 120. 110.\n",
      " 110. 110. 100. 110. 110. 110. 100. 110. 100. 100. 110. 110. 100. 120.\n",
      " 120. 110. 100. 110. 100. 110. 120. 120. 110. 110. 110. 140. 110. 100.\n",
      " 110. 100. 150. 150. 160. 100. 120. 140.  90. 130. 120. 100.  50.  50.\n",
      " 100. 100. 120. 100.  90. 110. 110.  80.  90.  90. 110. 110.  90. 110.\n",
      " 140. 100. 110. 110. 100. 100. 110.]\n"
     ]
    }
   ],
   "source": [
    "'''\n",
    "2.Look over the cereal.csv file. This file contains the reported calorie amounts for different cereal brands. \n",
    "Load the data from the file and save it as calorie_stats.\n",
    "\n",
    "'''\n",
    "\n",
    "from numpy import loadtxt\n",
    "file = '/home/shahid/Desktop/cereal.csv'\n",
    "data = open(file,'rt')\n",
    "cereal = loadtxt(data,delimiter=',')\n",
    "print(cereal)"
   ]
  },
  {
   "cell_type": "code",
   "execution_count": 4,
   "metadata": {},
   "outputs": [
    {
     "data": {
      "text/plain": [
       "106.88311688311688"
      ]
     },
     "execution_count": 4,
     "metadata": {},
     "output_type": "execute_result"
    }
   ],
   "source": [
    "'''\n",
    "\n",
    "3.There are 60 calories per serving of CrunchieMunchies. \n",
    "How much higher is the average calorie count of your competition?\n",
    "Save the answer to the variable average_calories and print the variable to the terminal to see the answer.\n",
    "'''\n",
    "average_calories = cereal.mean()\n",
    "average_calories"
   ]
  },
  {
   "cell_type": "code",
   "execution_count": 5,
   "metadata": {},
   "outputs": [
    {
     "name": "stdout",
     "output_type": "stream",
     "text": [
      "[ 50.  50.  50.  70.  70.  80.  90.  90.  90.  90.  90.  90.  90. 100.\n",
      " 100. 100. 100. 100. 100. 100. 100. 100. 100. 100. 100. 100. 100. 100.\n",
      " 100. 100. 110. 110. 110. 110. 110. 110. 110. 110. 110. 110. 110. 110.\n",
      " 110. 110. 110. 110. 110. 110. 110. 110. 110. 110. 110. 110. 110. 110.\n",
      " 110. 110. 110. 120. 120. 120. 120. 120. 120. 120. 120. 120. 120. 130.\n",
      " 130. 140. 140. 140. 150. 150. 160.]\n"
     ]
    }
   ],
   "source": [
    "'''\n",
    "4.Does the average calorie count adequately reflect the distribution of the dataset? \n",
    "Let’s sort the data and see.\n",
    "\n",
    "Sort the data and save the result to the variable calorie_stats_sorted. Print the sorted data to the terminal.\n",
    "'''\n",
    "\n",
    "from numpy import loadtxt\n",
    "file = '/home/shahid/Desktop/cereal.csv'\n",
    "data = open(file,'rt')\n",
    "cereal = loadtxt(data,delimiter=',')\n",
    "cereal1 = np.sort(cereal)\n",
    "print(cereal1)\n"
   ]
  },
  {
   "cell_type": "code",
   "execution_count": 6,
   "metadata": {},
   "outputs": [
    {
     "name": "stdout",
     "output_type": "stream",
     "text": [
      "110.0\n"
     ]
    }
   ],
   "source": [
    "'''\n",
    "\n",
    "5.Do you see what I’m seeing? Looks like the majority of the cereals are higher than the mean. \n",
    "Let’s see if the median is a better representative of the dataset.\n",
    "\n",
    "Calculate the median of the dataset and save your answer to median_calories. \n",
    "Print the median so you can see how it compares to the mean.\n",
    "'''\n",
    "\n",
    "from numpy import loadtxt\n",
    "file = '/home/shahid/Desktop/cereal.csv'\n",
    "data = open(file,'rt')\n",
    "cereal = loadtxt(data,delimiter=',')\n",
    "median_calories = np.median(cereal)\n",
    "print(median_calories)\n",
    "\n"
   ]
  },
  {
   "cell_type": "code",
   "execution_count": 7,
   "metadata": {},
   "outputs": [
    {
     "name": "stdout",
     "output_type": "stream",
     "text": [
      "55.599999999999994\n"
     ]
    }
   ],
   "source": [
    "'''\n",
    "\n",
    "6.While the median demonstrates that at least half of our values are over 100 calories, it would be more impressive to show that a significant portion of the competition has a higher\n",
    "calorie count that CrunchieMunchies.\n",
    "\n",
    "Calculate different percentiles and print them to the terminal until you find the lowest percentile \n",
    "that is greater than 60 calories. Save this value to the variable nth_percentile.\n",
    "'''\n",
    "\n",
    "from numpy import loadtxt\n",
    "file = '/home/shahid/Desktop/cereal.csv'\n",
    "data = open(file,'rt')\n",
    "cereal = loadtxt(data,delimiter=',')\n",
    "nth_percentile = np.percentile(cereal,3)\n",
    "print(nth_percentile)\n",
    "\n"
   ]
  },
  {
   "cell_type": "code",
   "execution_count": 8,
   "metadata": {},
   "outputs": [
    {
     "data": {
      "text/plain": [
       "98.17739975698665"
      ]
     },
     "execution_count": 8,
     "metadata": {},
     "output_type": "execute_result"
    }
   ],
   "source": [
    "'''\n",
    "7.While the percentile shows us thatthe majority of the competition has a much higher calorie count, \n",
    "it’s an awkward concept to use in marketing materials.\n",
    "\n",
    "Instead, let’s calculate the percentage of cereals that have more than 60 calories per serving.\n",
    "Save your answer to the variable more_calories and print it to the terminal\n",
    "'''\n",
    "pecntage_of_cereal= np.sum(cereal[cereal > 60])\n",
    "count = np.sum(cereal)\n",
    "more_calories = (pecntage_of_cereal/count)*100\n",
    "more_calories"
   ]
  },
  {
   "cell_type": "code",
   "execution_count": 9,
   "metadata": {},
   "outputs": [
    {
     "data": {
      "text/plain": [
       "19.35718533390827"
      ]
     },
     "execution_count": 9,
     "metadata": {},
     "output_type": "execute_result"
    }
   ],
   "source": [
    "'''\n",
    "\n",
    "8.Wow! That’s a really high percentage. That’s going to be very useful when we promote CrunchieMunchies. \n",
    "But one question is, how much variation exists in the dataset? \n",
    "</em></q>Can we make the generalization that most cereals have around 100 calories \n",
    "or is the spread even greater?\n",
    "\n",
    "Calculate the amount of variation by finding the standard deviation Save your answer to calorie_std and print to the terminal. How can we incorporate this value into our analysis?\n",
    "'''\n",
    "calorie_std = np.std(cereal)\n",
    "calorie_std"
   ]
  },
  {
   "cell_type": "code",
   "execution_count": null,
   "metadata": {},
   "outputs": [],
   "source": []
  }
 ],
 "metadata": {
  "kernelspec": {
   "display_name": "Python 3",
   "language": "python",
   "name": "python3"
  },
  "language_info": {
   "codemirror_mode": {
    "name": "ipython",
    "version": 3
   },
   "file_extension": ".py",
   "mimetype": "text/x-python",
   "name": "python",
   "nbconvert_exporter": "python",
   "pygments_lexer": "ipython3",
   "version": "3.6.4"
  }
 },
 "nbformat": 4,
 "nbformat_minor": 2
}
